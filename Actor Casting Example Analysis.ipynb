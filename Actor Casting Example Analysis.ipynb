{
 "cells": [
  {
   "cell_type": "code",
   "execution_count": null,
   "metadata": {},
   "outputs": [],
   "source": [
    "import numpy as np\n",
    "import pandas as pd\n",
    "pd.set_option('display.max_columns', 99)"
   ]
  },
  {
   "cell_type": "code",
   "execution_count": null,
   "metadata": {},
   "outputs": [],
   "source": [
    "titles = pd.read_csv('titles.csv')"
   ]
  },
  {
   "cell_type": "markdown",
   "metadata": {},
   "source": [
    "# Strategy:\n",
    " ### cleaning: \n",
    "- throw out all irrelevant columns (see '[df name]Drop' lists)\n",
    "- throw out movies that aren't action/adventure\n",
    "- remove the 'min' in the duration column to make the value an integer\n",
    "- merge ratings data into one data frame, allowing movies to have raitings from either 1 or both sources\n",
    "- merge this to the list of movies, but this time throw out movies that don't have a rating\n",
    "    - justification for throwing out ratingless movies: if they are'nt rated, they're probably un-remarkable\n",
    "\n",
    "- split the 'cast' category, creating identical columns for each movie, one for each of the actors listed in the cast\n",
    "    - This will make it easy for us to use the 'group by' function"
   ]
  },
  {
   "cell_type": "code",
   "execution_count": null,
   "metadata": {},
   "outputs": [],
   "source": [
    "movies = titles[titles['type']=='Movie']\n",
    "moviesDrop = ['show_id','rating','director','country','date_added','description','type']\n",
    "movies.drop(axis=1,labels=moviesDrop,inplace=True)\n",
    "movies = movies[movies['cast'].notna()]"
   ]
  },
  {
   "cell_type": "code",
   "execution_count": null,
   "metadata": {},
   "outputs": [],
   "source": [
    "#filter for only 'action and adventure'\n",
    "movies = movies[movies['listed_in'].apply(lambda x: 'Action & Adventure' in str(x.split(',')))]"
   ]
  },
  {
   "cell_type": "code",
   "execution_count": null,
   "metadata": {
    "scrolled": true
   },
   "outputs": [],
   "source": [
    "ratings = pd.read_csv('movies_metadata.csv')\n",
    "ratingsDrop = ['adult','popularity','belongs_to_collection','budget','revenue','genres','homepage','spoken_languages','id','imdb_id','original_language','original_title','overview','poster_path','production_companies','production_countries','release_date','runtime','status','tagline','video']\n",
    "ratings.drop(axis=1,labels=ratingsDrop,inplace=True)\n",
    "#if either the number of ratings or the rating itself is null, set both values to null\n",
    "ratings.loc[ratings['vote_average'].isnull(), 'vote_count'] = np.nan\n",
    "ratings.loc[ratings['vote_count'].isnull(), 'vote_average'] = np.nan"
   ]
  },
  {
   "cell_type": "code",
   "execution_count": null,
   "metadata": {},
   "outputs": [],
   "source": [
    "ratings2 = pd.read_csv('ratings.csv')\n",
    "ratingsDrop = ['rating','ratingLevel','release year']\n",
    "ratings2.drop(axis=1,labels=ratingsDrop,inplace=True)\n",
    "#if either the number of ratings or the rating itself is null, set both values to null\n",
    "ratings2.loc[ratings2['user rating score'].isnull(), 'user rating size'] = np.nan\n",
    "ratings2.loc[ratings2['user rating size'].isnull(), 'user rating score'] = np.nan"
   ]
  },
  {
   "cell_type": "code",
   "execution_count": null,
   "metadata": {},
   "outputs": [],
   "source": [
    "#turn the duration into an integer to represent minutes\n",
    "movies['duration'] = movies['duration'].apply(lambda x:int(x.split()[0]))"
   ]
  },
  {
   "cell_type": "code",
   "execution_count": null,
   "metadata": {},
   "outputs": [],
   "source": [
    "#merge the ratings together and allign them with the titles\n",
    "movies = pd.merge(movies,pd.merge(ratings,ratings2,on='title',how='outer'),on='title').drop_duplicates(subset='title', keep=\"first\")"
   ]
  },
  {
   "cell_type": "code",
   "execution_count": null,
   "metadata": {},
   "outputs": [],
   "source": [
    "movies['vote_average'] = movies['vote_average'].fillna(0)\n",
    "movies['vote_count'] = movies['vote_count'].fillna(0)\n",
    "movies['user rating score'] = movies['user rating score'].fillna(0)\n",
    "movies['user rating size'] = movies['user rating size'].fillna(0)\n",
    "movies['vote_average'] = movies['vote_average']*10 #set both scales to be out of 100\n",
    "movies['count'] = 1 #used to find the number of movies actors have been in"
   ]
  },
  {
   "cell_type": "code",
   "execution_count": null,
   "metadata": {},
   "outputs": [],
   "source": [
    "#keep movies that have ratings from one or the other or both rating files\n",
    "movies = movies[(movies['vote_count']!=0) | (movies['user rating size'] !=0)]\n",
    "movies.reset_index(inplace=True, drop=True)"
   ]
  },
  {
   "cell_type": "code",
   "execution_count": null,
   "metadata": {},
   "outputs": [],
   "source": [
    "#split up each actor in the 'cast' to have their own row with the movie information\n",
    "stack = movies['cast'].str.split(',').apply(pd.Series,1).stack() \n",
    "stack.index = stack.index.droplevel(-1)#line up with movies index\n",
    "stack.name = 'cast'\n",
    "del movies['cast'] #delete old list version\n",
    "movies = movies.join(stack) #replace with indivdualized cast members"
   ]
  },
  {
   "cell_type": "markdown",
   "metadata": {},
   "source": [
    "### Analysis:\n",
    "- average score data from both rating sources into a single column for all movies\n",
    "- throw out rows that have less than 45 (half the median) total votes\n",
    "    - justification: executives want reliable results and the uncertainty in small samples weakens the validity\n",
    "- groupby('cast') and extract the average rating as well as the number of movies stared in"
   ]
  },
  {
   "cell_type": "code",
   "execution_count": null,
   "metadata": {},
   "outputs": [],
   "source": [
    "movies = movies[(movies['user rating size'] + movies['vote_count']) > 45]"
   ]
  },
  {
   "cell_type": "code",
   "execution_count": null,
   "metadata": {},
   "outputs": [],
   "source": [
    "#combine both ratings into a weighted average of the two rating systems\n",
    "movies['rating']=(movies['vote_average']*movies['vote_count']+movies['user rating score']*movies['user rating size'])/(movies['vote_count']+movies['user rating size'])"
   ]
  },
  {
   "cell_type": "code",
   "execution_count": null,
   "metadata": {},
   "outputs": [],
   "source": [
    "movies"
   ]
  },
  {
   "cell_type": "code",
   "execution_count": null,
   "metadata": {},
   "outputs": [],
   "source": [
    "#compile list of actors, and add the average score and sum of runtime and number of movies\n",
    "actors = movies.groupby('cast').mean().sort_values('rating',ascending = False)\n",
    "actors.drop(axis=1, labels=['duration','count','release_year','vote_average','vote_count','user rating score','user rating size'],inplace=True)\n",
    "actors = pd.merge(actors,movies.groupby('cast').sum()[['duration','count']],on='cast')\n",
    "actors.columns=['average rating','total length of movie runtimes','number of movies stared in']\n",
    "actors.reset_index(inplace=True)"
   ]
  },
  {
   "cell_type": "code",
   "execution_count": null,
   "metadata": {},
   "outputs": [],
   "source": [
    "actors.to_csv('A&A actor ratings.csv',index=False)"
   ]
  },
  {
   "cell_type": "code",
   "execution_count": null,
   "metadata": {},
   "outputs": [],
   "source": [
    "actors"
   ]
  }
 ],
 "metadata": {
  "kernelspec": {
   "display_name": "Python 3",
   "language": "python",
   "name": "python3"
  },
  "language_info": {
   "codemirror_mode": {
    "name": "ipython",
    "version": 3
   },
   "file_extension": ".py",
   "mimetype": "text/x-python",
   "name": "python",
   "nbconvert_exporter": "python",
   "pygments_lexer": "ipython3",
   "version": "3.7.4"
  }
 },
 "nbformat": 4,
 "nbformat_minor": 2
}
